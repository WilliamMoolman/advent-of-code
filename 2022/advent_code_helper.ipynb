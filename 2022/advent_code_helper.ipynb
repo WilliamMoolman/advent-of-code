{
 "cells": [
  {
   "cell_type": "markdown",
   "metadata": {},
   "source": [
    "# Download Inputs"
   ]
  },
  {
   "cell_type": "code",
   "execution_count": 2,
   "metadata": {},
   "outputs": [],
   "source": [
    "import os\n",
    "\n",
    "for DAY in range(1, 26):\n",
    "    URL = f\"https://adventofcode.com/2022/day/{DAY}/input\"\n",
    "    SESSION = \"xxx\"\n",
    "\n",
    "    os.system(f\"curl -s -b session={SESSION} {URL} > inputday{DAY}.txt\")"
   ]
  },
  {
   "cell_type": "code",
   "execution_count": 4,
   "metadata": {},
   "outputs": [],
   "source": [
    "\n",
    "for DAY in range(1, 26):\n",
    "    # Download the HTML for the day using curl\n",
    "    url = f\"https://adventofcode.com/2022/day/{DAY}\"\n",
    "    os.system(f\"curl -s {url} > inputday{DAY}.html\")\n"
   ]
  },
  {
   "cell_type": "code",
   "execution_count": 3,
   "metadata": {},
   "outputs": [],
   "source": [
    "for DAY in range(7,26):\n",
    "    boilerplate = \"\"\"\n",
    "from utils import line_input\n",
    "from parse import parse\n",
    "\n",
    "def part1():\n",
    "    for line in line_input({DAY}):\n",
    "        ...\n",
    "\n",
    "def part2():\n",
    "    for line in line_input({DAY}):\n",
    "        ...\n",
    "    \n",
    "part1()\n",
    "part2()\"\"\"\n",
    "\n",
    "    with open(f\"day{DAY}.py\",'w') as f:\n",
    "        f.write(boilerplate)"
   ]
  }
 ],
 "metadata": {
  "kernelspec": {
   "display_name": "Python 3.11.0 64-bit ('3.11.0')",
   "language": "python",
   "name": "python3"
  },
  "language_info": {
   "codemirror_mode": {
    "name": "ipython",
    "version": 3
   },
   "file_extension": ".py",
   "mimetype": "text/x-python",
   "name": "python",
   "nbconvert_exporter": "python",
   "pygments_lexer": "ipython3",
   "version": "3.11.0"
  },
  "orig_nbformat": 4,
  "vscode": {
   "interpreter": {
    "hash": "1e9502db8c5ec8596e1879352c5777383eadd0a2fad943c37ec9797e0bab6063"
   }
  }
 },
 "nbformat": 4,
 "nbformat_minor": 2
}
